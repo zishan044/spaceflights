{
 "cells": [
  {
   "cell_type": "code",
   "execution_count": 13,
   "id": "2528b278",
   "metadata": {},
   "outputs": [
    {
     "name": "stdout",
     "output_type": "stream",
     "text": [
      "The kedro extension is already loaded. To reload it, use:\n",
      "  %reload_ext kedro\n"
     ]
    }
   ],
   "source": [
    "%load_ext kedro"
   ]
  },
  {
   "cell_type": "code",
   "execution_count": 14,
   "id": "06b2420f",
   "metadata": {},
   "outputs": [
    {
     "data": {
      "text/html": [
       "<pre style=\"white-space:pre;overflow-x:auto;line-height:normal;font-family:Menlo,'DejaVu Sans Mono',consolas,'Courier New',monospace\"></pre>\n"
      ],
      "text/plain": []
     },
     "metadata": {},
     "output_type": "display_data"
    },
    {
     "data": {
      "text/plain": [
       "\u001b[1m<\u001b[0m\u001b[1;95mkedro.framework.session.session.KedroSession\u001b[0m\u001b[39m object at \u001b[0m\u001b[1;36m0x752380326710\u001b[0m\u001b[1m>\u001b[0m"
      ]
     },
     "execution_count": 14,
     "metadata": {},
     "output_type": "execute_result"
    }
   ],
   "source": [
    "session"
   ]
  },
  {
   "cell_type": "code",
   "execution_count": 15,
   "id": "cdae3c21",
   "metadata": {},
   "outputs": [
    {
     "data": {
      "text/html": [
       "<pre style=\"white-space:pre;overflow-x:auto;line-height:normal;font-family:Menlo,'DejaVu Sans Mono',consolas,'Courier New',monospace\"></pre>\n"
      ],
      "text/plain": []
     },
     "metadata": {},
     "output_type": "display_data"
    },
    {
     "data": {
      "text/plain": [
       "\n",
       "\u001b[1;35mKedroContext\u001b[0m\u001b[1m(\u001b[0m\n",
       "    \u001b[33mproject_path\u001b[0m=\u001b[1;35mPosixPath\u001b[0m\u001b[1m(\u001b[0m\u001b[32m'/home/zishan/Documents/projects/spaceflights'\u001b[0m\u001b[1m)\u001b[0m,\n",
       "    \u001b[33mconfig_loader\u001b[0m=\u001b[1;35mOmegaConfigLoader\u001b[0m\u001b[1m(\u001b[0m\u001b[33mconf_source\u001b[0m=\u001b[35m/home/zishan/Documents/projects/spaceflights/\u001b[0m\u001b[95mconf\u001b[0m, \u001b[33menv\u001b[0m=\u001b[3;35mNone\u001b[0m, \u001b[33mruntime_params\u001b[0m=\u001b[1m{\u001b[0m\u001b[1m}\u001b[0m, \u001b[33mconfig_patterns\u001b[0m=\u001b[1m{\u001b[0m\u001b[32m'catalog'\u001b[0m: \u001b[1m[\u001b[0m\u001b[32m'catalog*'\u001b[0m, \u001b[32m'catalog*/**'\u001b[0m, \u001b[32m'**/catalog*'\u001b[0m\u001b[1m]\u001b[0m, \u001b[32m'parameters'\u001b[0m: \u001b[1m[\u001b[0m\u001b[32m'parameters*'\u001b[0m, \u001b[32m'parameters*/**'\u001b[0m, \u001b[32m'**/parameters*'\u001b[0m\u001b[1m]\u001b[0m, \u001b[32m'credentials'\u001b[0m: \u001b[1m[\u001b[0m\u001b[32m'credentials*'\u001b[0m, \u001b[32m'credentials*/**'\u001b[0m, \u001b[32m'**/credentials*'\u001b[0m\u001b[1m]\u001b[0m, \u001b[32m'globals'\u001b[0m: \u001b[1m[\u001b[0m\u001b[32m'globals.yml'\u001b[0m\u001b[1m]\u001b[0m\u001b[1m}\u001b[0m, \u001b[33mbase_env\u001b[0m=\u001b[35mbase\u001b[0m\u001b[1m)\u001b[0m, \u001b[33mdefault_run_env\u001b[0m=\u001b[35mlocal\u001b[0m\u001b[1m)\u001b[0m, \u001b[33mcustom_resolvers\u001b[0m=\u001b[3;35mNone\u001b[0m\u001b[1m)\u001b[0m, \u001b[33mmerge_strategy\u001b[0m=\u001b[1m{\u001b[0m\u001b[1m}\u001b[0m\u001b[1m)\u001b[0m,\n",
       "    \u001b[33menv\u001b[0m=\u001b[3;35mNone\u001b[0m,\n",
       "    \u001b[33m_package_name\u001b[0m=\u001b[3;35mNone\u001b[0m,\n",
       "    \u001b[33m_hook_manager\u001b[0m=\u001b[1m<\u001b[0m\u001b[1;95mpluggy._manager.PluginManager\u001b[0m\u001b[39m object at \u001b[0m\u001b[1;36m0x752380326ad0\u001b[0m\u001b[1m>\u001b[0m,\n",
       "    \u001b[33m_runtime_params\u001b[0m=\u001b[3;35mNone\u001b[0m\n",
       "\u001b[1m)\u001b[0m"
      ]
     },
     "execution_count": 15,
     "metadata": {},
     "output_type": "execute_result"
    }
   ],
   "source": [
    "context"
   ]
  },
  {
   "cell_type": "code",
   "execution_count": 16,
   "id": "43cfd034",
   "metadata": {},
   "outputs": [
    {
     "data": {
      "text/html": [
       "<pre style=\"white-space:pre;overflow-x:auto;line-height:normal;font-family:Menlo,'DejaVu Sans Mono',consolas,'Courier New',monospace\"></pre>\n"
      ],
      "text/plain": []
     },
     "metadata": {},
     "output_type": "display_data"
    },
    {
     "data": {
      "text/plain": [
       "\n",
       "\u001b[32m'parameters'\u001b[0m: \u001b[1;35mkedro.io.memory_dataset.MemoryDataset\u001b[0m\u001b[1m(\u001b[0m\u001b[33mdata\u001b[0m=\u001b[32m'\u001b[0m\u001b[32m<\u001b[0m\u001b[32mdict\u001b[0m\u001b[32m>\u001b[0m\u001b[32m'\u001b[0m\u001b[1m)\u001b[0m\n",
       "\u001b[32m'companies'\u001b[0m: \u001b[1;35mkedro_datasets.pandas.csv_dataset.CSVDataset\u001b[0m\u001b[1m(\u001b[0m\u001b[33mfilepath\u001b[0m=\u001b[1;35mPurePosixPath\u001b[0m\u001b[1m(\u001b[0m\u001b[32m'/home/zishan/Documents/projects/spaceflights/data/01_raw/companies.csv'\u001b[0m\u001b[1m)\u001b[0m, \u001b[33mprotocol\u001b[0m=\u001b[32m'file'\u001b[0m, \u001b[33mload_args\u001b[0m=\u001b[1m{\u001b[0m\u001b[1m}\u001b[0m, \u001b[33msave_args\u001b[0m=\u001b[1m{\u001b[0m\u001b[32m'index'\u001b[0m: \u001b[3;91mFalse\u001b[0m\u001b[1m}\u001b[0m\u001b[1m)\u001b[0m\n",
       "\u001b[32m'reviews'\u001b[0m: \u001b[1;35mkedro_datasets.pandas.csv_dataset.CSVDataset\u001b[0m\u001b[1m(\u001b[0m\u001b[33mfilepath\u001b[0m=\u001b[1;35mPurePosixPath\u001b[0m\u001b[1m(\u001b[0m\u001b[32m'/home/zishan/Documents/projects/spaceflights/data/01_raw/reviews.csv'\u001b[0m\u001b[1m)\u001b[0m, \u001b[33mprotocol\u001b[0m=\u001b[32m'file'\u001b[0m, \u001b[33mload_args\u001b[0m=\u001b[1m{\u001b[0m\u001b[1m}\u001b[0m, \u001b[33msave_args\u001b[0m=\u001b[1m{\u001b[0m\u001b[32m'index'\u001b[0m: \u001b[3;91mFalse\u001b[0m\u001b[1m}\u001b[0m\u001b[1m)\u001b[0m\n",
       "\u001b[32m'shuttles'\u001b[0m: \u001b[1;35mkedro_datasets.pandas.excel_dataset.ExcelDataset\u001b[0m\u001b[1m(\u001b[0m\u001b[33mfilepath\u001b[0m=\u001b[1;35mPurePosixPath\u001b[0m\u001b[1m(\u001b[0m\u001b[32m'/home/zishan/Documents/projects/spaceflights/data/01_raw/shuttles.xlsx'\u001b[0m\u001b[1m)\u001b[0m, \u001b[33mprotocol\u001b[0m=\u001b[32m'file'\u001b[0m, \u001b[33mload_args\u001b[0m=\u001b[1m{\u001b[0m\u001b[32m'engine'\u001b[0m: \u001b[32m'openpyxl'\u001b[0m\u001b[1m}\u001b[0m, \u001b[33msave_args\u001b[0m=\u001b[1m{\u001b[0m\u001b[32m'index'\u001b[0m: \u001b[3;91mFalse\u001b[0m\u001b[1m}\u001b[0m, \u001b[33mwriter_args\u001b[0m=\u001b[1m{\u001b[0m\u001b[32m'engine'\u001b[0m: \u001b[32m'openpyxl'\u001b[0m\u001b[1m}\u001b[0m\u001b[1m)\u001b[0m"
      ]
     },
     "execution_count": 16,
     "metadata": {},
     "output_type": "execute_result"
    }
   ],
   "source": [
    "catalog"
   ]
  },
  {
   "cell_type": "code",
   "execution_count": 17,
   "id": "2daa8f63",
   "metadata": {},
   "outputs": [
    {
     "data": {
      "text/html": [
       "<pre style=\"white-space:pre;overflow-x:auto;line-height:normal;font-family:Menlo,'DejaVu Sans Mono',consolas,'Courier New',monospace\"></pre>\n"
      ],
      "text/plain": []
     },
     "metadata": {},
     "output_type": "display_data"
    },
    {
     "data": {
      "text/plain": [
       "\u001b[1m{\u001b[0m\u001b[32m'__default__'\u001b[0m: \u001b[1;35mPipeline\u001b[0m\u001b[1m(\u001b[0m\u001b[1m[\u001b[0m\u001b[1m]\u001b[0m\u001b[1m)\u001b[0m\u001b[1m}\u001b[0m"
      ]
     },
     "execution_count": 17,
     "metadata": {},
     "output_type": "execute_result"
    }
   ],
   "source": [
    "pipelines"
   ]
  },
  {
   "cell_type": "code",
   "execution_count": 18,
   "id": "42f21fcf",
   "metadata": {},
   "outputs": [
    {
     "name": "stdout",
     "output_type": "stream",
     "text": [
      "The kedro.ipython extension is already loaded. To reload it, use:\n",
      "  %reload_ext kedro.ipython\n"
     ]
    }
   ],
   "source": [
    "%load_ext kedro.ipython"
   ]
  },
  {
   "cell_type": "code",
   "execution_count": 19,
   "id": "724780d3",
   "metadata": {},
   "outputs": [
    {
     "data": {
      "text/html": [
       "<pre style=\"white-space:pre;overflow-x:auto;line-height:normal;font-family:Menlo,'DejaVu Sans Mono',consolas,'Courier New',monospace\"><span style=\"color: #7fbfbf; text-decoration-color: #7fbfbf\">[10/02/25 18:36:56] </span><span style=\"color: #000080; text-decoration-color: #000080\">INFO    </span> Loading data from <span style=\"color: #ff8700; text-decoration-color: #ff8700\">companies</span> <span style=\"font-weight: bold\">(</span>CSVDataset<span style=\"font-weight: bold\">)</span><span style=\"color: #808000; text-decoration-color: #808000\">...</span>                       <a href=\"file:///home/zishan/anaconda3/envs/spaceflights/lib/python3.13/site-packages/kedro/io/data_catalog.py\" target=\"_blank\"><span style=\"color: #7f7f7f; text-decoration-color: #7f7f7f\">data_catalog.py</span></a><span style=\"color: #7f7f7f; text-decoration-color: #7f7f7f\">:</span><a href=\"file:///home/zishan/anaconda3/envs/spaceflights/lib/python3.13/site-packages/kedro/io/data_catalog.py#1046\" target=\"_blank\"><span style=\"color: #7f7f7f; text-decoration-color: #7f7f7f\">1046</span></a>\n",
       "</pre>\n"
      ],
      "text/plain": [
       "\u001b[2;36m[10/02/25 18:36:56]\u001b[0m\u001b[2;36m \u001b[0m\u001b[34mINFO    \u001b[0m Loading data from \u001b[38;5;208mcompanies\u001b[0m \u001b[1m(\u001b[0mCSVDataset\u001b[1m)\u001b[0m\u001b[33m...\u001b[0m                       \u001b]8;id=121351;file:///home/zishan/anaconda3/envs/spaceflights/lib/python3.13/site-packages/kedro/io/data_catalog.py\u001b\\\u001b[2mdata_catalog.py\u001b[0m\u001b]8;;\u001b\\\u001b[2m:\u001b[0m\u001b]8;id=929943;file:///home/zishan/anaconda3/envs/spaceflights/lib/python3.13/site-packages/kedro/io/data_catalog.py#1046\u001b\\\u001b[2m1046\u001b[0m\u001b]8;;\u001b\\\n"
      ]
     },
     "metadata": {},
     "output_type": "display_data"
    },
    {
     "data": {
      "text/html": [
       "<pre style=\"white-space:pre;overflow-x:auto;line-height:normal;font-family:Menlo,'DejaVu Sans Mono',consolas,'Courier New',monospace\"></pre>\n"
      ],
      "text/plain": []
     },
     "metadata": {},
     "output_type": "display_data"
    },
    {
     "data": {
      "text/html": [
       "<div>\n",
       "<style scoped>\n",
       "    .dataframe tbody tr th:only-of-type {\n",
       "        vertical-align: middle;\n",
       "    }\n",
       "\n",
       "    .dataframe tbody tr th {\n",
       "        vertical-align: top;\n",
       "    }\n",
       "\n",
       "    .dataframe thead th {\n",
       "        text-align: right;\n",
       "    }\n",
       "</style>\n",
       "<table border=\"1\" class=\"dataframe\">\n",
       "  <thead>\n",
       "    <tr style=\"text-align: right;\">\n",
       "      <th></th>\n",
       "      <th>id</th>\n",
       "      <th>company_rating</th>\n",
       "      <th>company_location</th>\n",
       "      <th>total_fleet_count</th>\n",
       "      <th>iata_approved</th>\n",
       "    </tr>\n",
       "  </thead>\n",
       "  <tbody>\n",
       "    <tr>\n",
       "      <th>0</th>\n",
       "      <td>3888</td>\n",
       "      <td>100%</td>\n",
       "      <td>Isle of Man</td>\n",
       "      <td>1.0</td>\n",
       "      <td>f</td>\n",
       "    </tr>\n",
       "    <tr>\n",
       "      <th>1</th>\n",
       "      <td>46728</td>\n",
       "      <td>100%</td>\n",
       "      <td>NaN</td>\n",
       "      <td>1.0</td>\n",
       "      <td>f</td>\n",
       "    </tr>\n",
       "    <tr>\n",
       "      <th>2</th>\n",
       "      <td>34618</td>\n",
       "      <td>38%</td>\n",
       "      <td>Isle of Man</td>\n",
       "      <td>1.0</td>\n",
       "      <td>f</td>\n",
       "    </tr>\n",
       "    <tr>\n",
       "      <th>3</th>\n",
       "      <td>28619</td>\n",
       "      <td>100%</td>\n",
       "      <td>Bosnia and Herzegovina</td>\n",
       "      <td>1.0</td>\n",
       "      <td>f</td>\n",
       "    </tr>\n",
       "    <tr>\n",
       "      <th>4</th>\n",
       "      <td>8240</td>\n",
       "      <td>NaN</td>\n",
       "      <td>Chile</td>\n",
       "      <td>1.0</td>\n",
       "      <td>t</td>\n",
       "    </tr>\n",
       "  </tbody>\n",
       "</table>\n",
       "</div>"
      ],
      "text/plain": [
       "\n",
       "      id company_rating        company_location  total_fleet_count  \\\n",
       "\u001b[1;36m0\u001b[0m   \u001b[1;36m3888\u001b[0m           \u001b[1;36m100\u001b[0m%             Isle of Man                \u001b[1;36m1.0\u001b[0m   \n",
       "\u001b[1;36m1\u001b[0m  \u001b[1;36m46728\u001b[0m           \u001b[1;36m100\u001b[0m%                     NaN                \u001b[1;36m1.0\u001b[0m   \n",
       "\u001b[1;36m2\u001b[0m  \u001b[1;36m34618\u001b[0m            \u001b[1;36m38\u001b[0m%             Isle of Man                \u001b[1;36m1.0\u001b[0m   \n",
       "\u001b[1;36m3\u001b[0m  \u001b[1;36m28619\u001b[0m           \u001b[1;36m100\u001b[0m%  Bosnia and Herzegovina                \u001b[1;36m1.0\u001b[0m   \n",
       "\u001b[1;36m4\u001b[0m   \u001b[1;36m8240\u001b[0m            NaN                   Chile                \u001b[1;36m1.0\u001b[0m   \n",
       "\n",
       "  iata_approved  \n",
       "\u001b[1;36m0\u001b[0m             f  \n",
       "\u001b[1;36m1\u001b[0m             f  \n",
       "\u001b[1;36m2\u001b[0m             f  \n",
       "\u001b[1;36m3\u001b[0m             f  \n",
       "\u001b[1;36m4\u001b[0m             t  "
      ]
     },
     "execution_count": 19,
     "metadata": {},
     "output_type": "execute_result"
    }
   ],
   "source": [
    "companies = catalog.load('companies')\n",
    "companies.head()"
   ]
  },
  {
   "cell_type": "code",
   "execution_count": 20,
   "id": "492f4498-4d30-4177-be5a-4b89ceb2f2e0",
   "metadata": {},
   "outputs": [
    {
     "data": {
      "text/html": [
       "<pre style=\"white-space:pre;overflow-x:auto;line-height:normal;font-family:Menlo,'DejaVu Sans Mono',consolas,'Courier New',monospace\"></pre>\n"
      ],
      "text/plain": []
     },
     "metadata": {},
     "output_type": "display_data"
    },
    {
     "data": {
      "text/plain": [
       "\n",
       "id                     int64\n",
       "company_rating        object\n",
       "company_location      object\n",
       "total_fleet_count    float64\n",
       "iata_approved         object\n",
       "dtype: object"
      ]
     },
     "execution_count": 20,
     "metadata": {},
     "output_type": "execute_result"
    }
   ],
   "source": [
    "companies.dtypes"
   ]
  },
  {
   "cell_type": "code",
   "execution_count": 21,
   "id": "8460cfdc-d0c9-4d6d-85a9-6b73965f4ebb",
   "metadata": {},
   "outputs": [],
   "source": [
    "companies['company_rating'] = companies['company_rating'].str.replace('%', '').astype(float)"
   ]
  },
  {
   "cell_type": "code",
   "execution_count": 23,
   "id": "84a14da3-40db-4209-bf3b-521ca0ec6f2b",
   "metadata": {},
   "outputs": [],
   "source": [
    "companies['iata_approved'] = companies['iata_approved'] == 't'"
   ]
  },
  {
   "cell_type": "code",
   "execution_count": 24,
   "id": "c32a8c76-32f6-4455-bea7-facbc03236ff",
   "metadata": {},
   "outputs": [
    {
     "data": {
      "text/html": [
       "<pre style=\"white-space:pre;overflow-x:auto;line-height:normal;font-family:Menlo,'DejaVu Sans Mono',consolas,'Courier New',monospace\"></pre>\n"
      ],
      "text/plain": []
     },
     "metadata": {},
     "output_type": "display_data"
    },
    {
     "data": {
      "text/plain": [
       "\n",
       "id                     int64\n",
       "company_rating       float64\n",
       "company_location      object\n",
       "total_fleet_count    float64\n",
       "iata_approved           bool\n",
       "dtype: object"
      ]
     },
     "execution_count": 24,
     "metadata": {},
     "output_type": "execute_result"
    }
   ],
   "source": [
    "companies.dtypes"
   ]
  },
  {
   "cell_type": "code",
   "execution_count": 25,
   "id": "89ee343d",
   "metadata": {},
   "outputs": [
    {
     "data": {
      "text/html": [
       "<pre style=\"white-space:pre;overflow-x:auto;line-height:normal;font-family:Menlo,'DejaVu Sans Mono',consolas,'Courier New',monospace\"><span style=\"color: #7fbfbf; text-decoration-color: #7fbfbf\">[10/02/25 18:42:09] </span><span style=\"color: #000080; text-decoration-color: #000080\">INFO    </span> Loading data from <span style=\"color: #ff8700; text-decoration-color: #ff8700\">reviews</span> <span style=\"font-weight: bold\">(</span>CSVDataset<span style=\"font-weight: bold\">)</span><span style=\"color: #808000; text-decoration-color: #808000\">...</span>                         <a href=\"file:///home/zishan/anaconda3/envs/spaceflights/lib/python3.13/site-packages/kedro/io/data_catalog.py\" target=\"_blank\"><span style=\"color: #7f7f7f; text-decoration-color: #7f7f7f\">data_catalog.py</span></a><span style=\"color: #7f7f7f; text-decoration-color: #7f7f7f\">:</span><a href=\"file:///home/zishan/anaconda3/envs/spaceflights/lib/python3.13/site-packages/kedro/io/data_catalog.py#1046\" target=\"_blank\"><span style=\"color: #7f7f7f; text-decoration-color: #7f7f7f\">1046</span></a>\n",
       "</pre>\n"
      ],
      "text/plain": [
       "\u001b[2;36m[10/02/25 18:42:09]\u001b[0m\u001b[2;36m \u001b[0m\u001b[34mINFO    \u001b[0m Loading data from \u001b[38;5;208mreviews\u001b[0m \u001b[1m(\u001b[0mCSVDataset\u001b[1m)\u001b[0m\u001b[33m...\u001b[0m                         \u001b]8;id=740167;file:///home/zishan/anaconda3/envs/spaceflights/lib/python3.13/site-packages/kedro/io/data_catalog.py\u001b\\\u001b[2mdata_catalog.py\u001b[0m\u001b]8;;\u001b\\\u001b[2m:\u001b[0m\u001b]8;id=891796;file:///home/zishan/anaconda3/envs/spaceflights/lib/python3.13/site-packages/kedro/io/data_catalog.py#1046\u001b\\\u001b[2m1046\u001b[0m\u001b]8;;\u001b\\\n"
      ]
     },
     "metadata": {},
     "output_type": "display_data"
    },
    {
     "data": {
      "text/html": [
       "<pre style=\"white-space:pre;overflow-x:auto;line-height:normal;font-family:Menlo,'DejaVu Sans Mono',consolas,'Courier New',monospace\"></pre>\n"
      ],
      "text/plain": []
     },
     "metadata": {},
     "output_type": "display_data"
    },
    {
     "data": {
      "text/html": [
       "<div>\n",
       "<style scoped>\n",
       "    .dataframe tbody tr th:only-of-type {\n",
       "        vertical-align: middle;\n",
       "    }\n",
       "\n",
       "    .dataframe tbody tr th {\n",
       "        vertical-align: top;\n",
       "    }\n",
       "\n",
       "    .dataframe thead th {\n",
       "        text-align: right;\n",
       "    }\n",
       "</style>\n",
       "<table border=\"1\" class=\"dataframe\">\n",
       "  <thead>\n",
       "    <tr style=\"text-align: right;\">\n",
       "      <th></th>\n",
       "      <th>shuttle_id</th>\n",
       "      <th>review_scores_rating</th>\n",
       "      <th>review_scores_comfort</th>\n",
       "      <th>review_scores_amenities</th>\n",
       "      <th>review_scores_trip</th>\n",
       "      <th>review_scores_crew</th>\n",
       "      <th>review_scores_location</th>\n",
       "      <th>review_scores_price</th>\n",
       "      <th>number_of_reviews</th>\n",
       "      <th>reviews_per_month</th>\n",
       "    </tr>\n",
       "  </thead>\n",
       "  <tbody>\n",
       "    <tr>\n",
       "      <th>0</th>\n",
       "      <td>45163</td>\n",
       "      <td>91.0</td>\n",
       "      <td>10.0</td>\n",
       "      <td>9.0</td>\n",
       "      <td>9.0</td>\n",
       "      <td>9.0</td>\n",
       "      <td>9.0</td>\n",
       "      <td>9.0</td>\n",
       "      <td>26</td>\n",
       "      <td>0.77</td>\n",
       "    </tr>\n",
       "    <tr>\n",
       "      <th>1</th>\n",
       "      <td>49438</td>\n",
       "      <td>96.0</td>\n",
       "      <td>10.0</td>\n",
       "      <td>10.0</td>\n",
       "      <td>10.0</td>\n",
       "      <td>10.0</td>\n",
       "      <td>10.0</td>\n",
       "      <td>9.0</td>\n",
       "      <td>61</td>\n",
       "      <td>0.62</td>\n",
       "    </tr>\n",
       "    <tr>\n",
       "      <th>2</th>\n",
       "      <td>10750</td>\n",
       "      <td>97.0</td>\n",
       "      <td>10.0</td>\n",
       "      <td>10.0</td>\n",
       "      <td>10.0</td>\n",
       "      <td>10.0</td>\n",
       "      <td>10.0</td>\n",
       "      <td>10.0</td>\n",
       "      <td>467</td>\n",
       "      <td>4.66</td>\n",
       "    </tr>\n",
       "    <tr>\n",
       "      <th>3</th>\n",
       "      <td>4146</td>\n",
       "      <td>95.0</td>\n",
       "      <td>10.0</td>\n",
       "      <td>10.0</td>\n",
       "      <td>10.0</td>\n",
       "      <td>10.0</td>\n",
       "      <td>9.0</td>\n",
       "      <td>9.0</td>\n",
       "      <td>318</td>\n",
       "      <td>3.22</td>\n",
       "    </tr>\n",
       "    <tr>\n",
       "      <th>4</th>\n",
       "      <td>5067</td>\n",
       "      <td>97.0</td>\n",
       "      <td>10.0</td>\n",
       "      <td>9.0</td>\n",
       "      <td>10.0</td>\n",
       "      <td>10.0</td>\n",
       "      <td>9.0</td>\n",
       "      <td>10.0</td>\n",
       "      <td>22</td>\n",
       "      <td>0.29</td>\n",
       "    </tr>\n",
       "  </tbody>\n",
       "</table>\n",
       "</div>"
      ],
      "text/plain": [
       "\n",
       "   shuttle_id  review_scores_rating  review_scores_comfort  \\\n",
       "\u001b[1;36m0\u001b[0m       \u001b[1;36m45163\u001b[0m                  \u001b[1;36m91.0\u001b[0m                   \u001b[1;36m10.0\u001b[0m   \n",
       "\u001b[1;36m1\u001b[0m       \u001b[1;36m49438\u001b[0m                  \u001b[1;36m96.0\u001b[0m                   \u001b[1;36m10.0\u001b[0m   \n",
       "\u001b[1;36m2\u001b[0m       \u001b[1;36m10750\u001b[0m                  \u001b[1;36m97.0\u001b[0m                   \u001b[1;36m10.0\u001b[0m   \n",
       "\u001b[1;36m3\u001b[0m        \u001b[1;36m4146\u001b[0m                  \u001b[1;36m95.0\u001b[0m                   \u001b[1;36m10.0\u001b[0m   \n",
       "\u001b[1;36m4\u001b[0m        \u001b[1;36m5067\u001b[0m                  \u001b[1;36m97.0\u001b[0m                   \u001b[1;36m10.0\u001b[0m   \n",
       "\n",
       "   review_scores_amenities  review_scores_trip  review_scores_crew  \\\n",
       "\u001b[1;36m0\u001b[0m                      \u001b[1;36m9.0\u001b[0m                 \u001b[1;36m9.0\u001b[0m                 \u001b[1;36m9.0\u001b[0m   \n",
       "\u001b[1;36m1\u001b[0m                     \u001b[1;36m10.0\u001b[0m                \u001b[1;36m10.0\u001b[0m                \u001b[1;36m10.0\u001b[0m   \n",
       "\u001b[1;36m2\u001b[0m                     \u001b[1;36m10.0\u001b[0m                \u001b[1;36m10.0\u001b[0m                \u001b[1;36m10.0\u001b[0m   \n",
       "\u001b[1;36m3\u001b[0m                     \u001b[1;36m10.0\u001b[0m                \u001b[1;36m10.0\u001b[0m                \u001b[1;36m10.0\u001b[0m   \n",
       "\u001b[1;36m4\u001b[0m                      \u001b[1;36m9.0\u001b[0m                \u001b[1;36m10.0\u001b[0m                \u001b[1;36m10.0\u001b[0m   \n",
       "\n",
       "   review_scores_location  review_scores_price  number_of_reviews  \\\n",
       "\u001b[1;36m0\u001b[0m                     \u001b[1;36m9.0\u001b[0m                  \u001b[1;36m9.0\u001b[0m                 \u001b[1;36m26\u001b[0m   \n",
       "\u001b[1;36m1\u001b[0m                    \u001b[1;36m10.0\u001b[0m                  \u001b[1;36m9.0\u001b[0m                 \u001b[1;36m61\u001b[0m   \n",
       "\u001b[1;36m2\u001b[0m                    \u001b[1;36m10.0\u001b[0m                 \u001b[1;36m10.0\u001b[0m                \u001b[1;36m467\u001b[0m   \n",
       "\u001b[1;36m3\u001b[0m                     \u001b[1;36m9.0\u001b[0m                  \u001b[1;36m9.0\u001b[0m                \u001b[1;36m318\u001b[0m   \n",
       "\u001b[1;36m4\u001b[0m                     \u001b[1;36m9.0\u001b[0m                 \u001b[1;36m10.0\u001b[0m                 \u001b[1;36m22\u001b[0m   \n",
       "\n",
       "   reviews_per_month  \n",
       "\u001b[1;36m0\u001b[0m               \u001b[1;36m0.77\u001b[0m  \n",
       "\u001b[1;36m1\u001b[0m               \u001b[1;36m0.62\u001b[0m  \n",
       "\u001b[1;36m2\u001b[0m               \u001b[1;36m4.66\u001b[0m  \n",
       "\u001b[1;36m3\u001b[0m               \u001b[1;36m3.22\u001b[0m  \n",
       "\u001b[1;36m4\u001b[0m               \u001b[1;36m0.29\u001b[0m  "
      ]
     },
     "execution_count": 25,
     "metadata": {},
     "output_type": "execute_result"
    }
   ],
   "source": [
    "reviews = catalog.load('reviews')\n",
    "reviews.head()"
   ]
  },
  {
   "cell_type": "code",
   "execution_count": 26,
   "id": "9832ddd6-4d61-4ec4-a6f0-0c0ef9934192",
   "metadata": {},
   "outputs": [
    {
     "data": {
      "text/html": [
       "<pre style=\"white-space:pre;overflow-x:auto;line-height:normal;font-family:Menlo,'DejaVu Sans Mono',consolas,'Courier New',monospace\"></pre>\n"
      ],
      "text/plain": []
     },
     "metadata": {},
     "output_type": "display_data"
    },
    {
     "data": {
      "text/plain": [
       "\n",
       "shuttle_id                   int64\n",
       "review_scores_rating       float64\n",
       "review_scores_comfort      float64\n",
       "review_scores_amenities    float64\n",
       "review_scores_trip         float64\n",
       "review_scores_crew         float64\n",
       "review_scores_location     float64\n",
       "review_scores_price        float64\n",
       "number_of_reviews            int64\n",
       "reviews_per_month          float64\n",
       "dtype: object"
      ]
     },
     "execution_count": 26,
     "metadata": {},
     "output_type": "execute_result"
    }
   ],
   "source": [
    "reviews.dtypes"
   ]
  },
  {
   "cell_type": "code",
   "execution_count": 27,
   "id": "d28f8790-14f4-4ac2-b1d4-b5a053037f20",
   "metadata": {},
   "outputs": [
    {
     "data": {
      "text/html": [
       "<pre style=\"white-space:pre;overflow-x:auto;line-height:normal;font-family:Menlo,'DejaVu Sans Mono',consolas,'Courier New',monospace\"><span style=\"color: #7fbfbf; text-decoration-color: #7fbfbf\">[10/02/25 18:43:09] </span><span style=\"color: #000080; text-decoration-color: #000080\">INFO    </span> Loading data from <span style=\"color: #ff8700; text-decoration-color: #ff8700\">shuttles</span> <span style=\"font-weight: bold\">(</span>ExcelDataset<span style=\"font-weight: bold\">)</span><span style=\"color: #808000; text-decoration-color: #808000\">...</span>                      <a href=\"file:///home/zishan/anaconda3/envs/spaceflights/lib/python3.13/site-packages/kedro/io/data_catalog.py\" target=\"_blank\"><span style=\"color: #7f7f7f; text-decoration-color: #7f7f7f\">data_catalog.py</span></a><span style=\"color: #7f7f7f; text-decoration-color: #7f7f7f\">:</span><a href=\"file:///home/zishan/anaconda3/envs/spaceflights/lib/python3.13/site-packages/kedro/io/data_catalog.py#1046\" target=\"_blank\"><span style=\"color: #7f7f7f; text-decoration-color: #7f7f7f\">1046</span></a>\n",
       "</pre>\n"
      ],
      "text/plain": [
       "\u001b[2;36m[10/02/25 18:43:09]\u001b[0m\u001b[2;36m \u001b[0m\u001b[34mINFO    \u001b[0m Loading data from \u001b[38;5;208mshuttles\u001b[0m \u001b[1m(\u001b[0mExcelDataset\u001b[1m)\u001b[0m\u001b[33m...\u001b[0m                      \u001b]8;id=96776;file:///home/zishan/anaconda3/envs/spaceflights/lib/python3.13/site-packages/kedro/io/data_catalog.py\u001b\\\u001b[2mdata_catalog.py\u001b[0m\u001b]8;;\u001b\\\u001b[2m:\u001b[0m\u001b]8;id=274981;file:///home/zishan/anaconda3/envs/spaceflights/lib/python3.13/site-packages/kedro/io/data_catalog.py#1046\u001b\\\u001b[2m1046\u001b[0m\u001b]8;;\u001b\\\n"
      ]
     },
     "metadata": {},
     "output_type": "display_data"
    },
    {
     "data": {
      "text/html": [
       "<pre style=\"white-space:pre;overflow-x:auto;line-height:normal;font-family:Menlo,'DejaVu Sans Mono',consolas,'Courier New',monospace\"></pre>\n"
      ],
      "text/plain": []
     },
     "metadata": {},
     "output_type": "display_data"
    },
    {
     "data": {
      "text/html": [
       "<div>\n",
       "<style scoped>\n",
       "    .dataframe tbody tr th:only-of-type {\n",
       "        vertical-align: middle;\n",
       "    }\n",
       "\n",
       "    .dataframe tbody tr th {\n",
       "        vertical-align: top;\n",
       "    }\n",
       "\n",
       "    .dataframe thead th {\n",
       "        text-align: right;\n",
       "    }\n",
       "</style>\n",
       "<table border=\"1\" class=\"dataframe\">\n",
       "  <thead>\n",
       "    <tr style=\"text-align: right;\">\n",
       "      <th></th>\n",
       "      <th>id</th>\n",
       "      <th>shuttle_location</th>\n",
       "      <th>shuttle_type</th>\n",
       "      <th>engine_type</th>\n",
       "      <th>engine_vendor</th>\n",
       "      <th>engines</th>\n",
       "      <th>passenger_capacity</th>\n",
       "      <th>cancellation_policy</th>\n",
       "      <th>crew</th>\n",
       "      <th>d_check_complete</th>\n",
       "      <th>moon_clearance_complete</th>\n",
       "      <th>price</th>\n",
       "      <th>company_id</th>\n",
       "    </tr>\n",
       "  </thead>\n",
       "  <tbody>\n",
       "    <tr>\n",
       "      <th>0</th>\n",
       "      <td>45163</td>\n",
       "      <td>Sao Tome and Principe</td>\n",
       "      <td>Type V5</td>\n",
       "      <td>Plasma</td>\n",
       "      <td>ThetaBase Services</td>\n",
       "      <td>2.0</td>\n",
       "      <td>4</td>\n",
       "      <td>moderate</td>\n",
       "      <td>2.0</td>\n",
       "      <td>f</td>\n",
       "      <td>f</td>\n",
       "      <td>$1,715.0</td>\n",
       "      <td>32413</td>\n",
       "    </tr>\n",
       "    <tr>\n",
       "      <th>1</th>\n",
       "      <td>49438</td>\n",
       "      <td>Wallis and Futuna</td>\n",
       "      <td>Type V2</td>\n",
       "      <td>Plasma</td>\n",
       "      <td>ThetaBase Services</td>\n",
       "      <td>3.0</td>\n",
       "      <td>5</td>\n",
       "      <td>moderate</td>\n",
       "      <td>3.0</td>\n",
       "      <td>f</td>\n",
       "      <td>f</td>\n",
       "      <td>$3,405.0</td>\n",
       "      <td>14122</td>\n",
       "    </tr>\n",
       "    <tr>\n",
       "      <th>2</th>\n",
       "      <td>10750</td>\n",
       "      <td>Niue</td>\n",
       "      <td>Type F5</td>\n",
       "      <td>Quantum</td>\n",
       "      <td>ThetaBase Services</td>\n",
       "      <td>1.0</td>\n",
       "      <td>2</td>\n",
       "      <td>strict</td>\n",
       "      <td>1.0</td>\n",
       "      <td>t</td>\n",
       "      <td>f</td>\n",
       "      <td>$1,806.0</td>\n",
       "      <td>47761</td>\n",
       "    </tr>\n",
       "    <tr>\n",
       "      <th>3</th>\n",
       "      <td>4146</td>\n",
       "      <td>Malta</td>\n",
       "      <td>Type V2</td>\n",
       "      <td>Quantum</td>\n",
       "      <td>ThetaBase Services</td>\n",
       "      <td>1.0</td>\n",
       "      <td>2</td>\n",
       "      <td>moderate</td>\n",
       "      <td>1.0</td>\n",
       "      <td>f</td>\n",
       "      <td>f</td>\n",
       "      <td>$1,676.0</td>\n",
       "      <td>26648</td>\n",
       "    </tr>\n",
       "    <tr>\n",
       "      <th>4</th>\n",
       "      <td>5067</td>\n",
       "      <td>Malta</td>\n",
       "      <td>Type V2</td>\n",
       "      <td>Plasma</td>\n",
       "      <td>ThetaBase Services</td>\n",
       "      <td>5.0</td>\n",
       "      <td>10</td>\n",
       "      <td>strict</td>\n",
       "      <td>5.0</td>\n",
       "      <td>f</td>\n",
       "      <td>f</td>\n",
       "      <td>$4,718.0</td>\n",
       "      <td>26648</td>\n",
       "    </tr>\n",
       "  </tbody>\n",
       "</table>\n",
       "</div>"
      ],
      "text/plain": [
       "\n",
       "      id       shuttle_location shuttle_type engine_type       engine_vendor  \\\n",
       "\u001b[1;36m0\u001b[0m  \u001b[1;36m45163\u001b[0m  Sao Tome and Principe      Type V5      Plasma  ThetaBase Services   \n",
       "\u001b[1;36m1\u001b[0m  \u001b[1;36m49438\u001b[0m      Wallis and Futuna      Type V2      Plasma  ThetaBase Services   \n",
       "\u001b[1;36m2\u001b[0m  \u001b[1;36m10750\u001b[0m                   Niue      Type F5     Quantum  ThetaBase Services   \n",
       "\u001b[1;36m3\u001b[0m   \u001b[1;36m4146\u001b[0m                  Malta      Type V2     Quantum  ThetaBase Services   \n",
       "\u001b[1;36m4\u001b[0m   \u001b[1;36m5067\u001b[0m                  Malta      Type V2      Plasma  ThetaBase Services   \n",
       "\n",
       "   engines  passenger_capacity cancellation_policy  crew d_check_complete  \\\n",
       "\u001b[1;36m0\u001b[0m      \u001b[1;36m2.0\u001b[0m                   \u001b[1;36m4\u001b[0m            moderate   \u001b[1;36m2.0\u001b[0m                f   \n",
       "\u001b[1;36m1\u001b[0m      \u001b[1;36m3.0\u001b[0m                   \u001b[1;36m5\u001b[0m            moderate   \u001b[1;36m3.0\u001b[0m                f   \n",
       "\u001b[1;36m2\u001b[0m      \u001b[1;36m1.0\u001b[0m                   \u001b[1;36m2\u001b[0m              strict   \u001b[1;36m1.0\u001b[0m                t   \n",
       "\u001b[1;36m3\u001b[0m      \u001b[1;36m1.0\u001b[0m                   \u001b[1;36m2\u001b[0m            moderate   \u001b[1;36m1.0\u001b[0m                f   \n",
       "\u001b[1;36m4\u001b[0m      \u001b[1;36m5.0\u001b[0m                  \u001b[1;36m10\u001b[0m              strict   \u001b[1;36m5.0\u001b[0m                f   \n",
       "\n",
       "  moon_clearance_complete     price  company_id  \n",
       "\u001b[1;36m0\u001b[0m                       f  $\u001b[1;36m1\u001b[0m,\u001b[1;36m715.0\u001b[0m       \u001b[1;36m32413\u001b[0m  \n",
       "\u001b[1;36m1\u001b[0m                       f  $\u001b[1;36m3\u001b[0m,\u001b[1;36m405.0\u001b[0m       \u001b[1;36m14122\u001b[0m  \n",
       "\u001b[1;36m2\u001b[0m                       f  $\u001b[1;36m1\u001b[0m,\u001b[1;36m806.0\u001b[0m       \u001b[1;36m47761\u001b[0m  \n",
       "\u001b[1;36m3\u001b[0m                       f  $\u001b[1;36m1\u001b[0m,\u001b[1;36m676.0\u001b[0m       \u001b[1;36m26648\u001b[0m  \n",
       "\u001b[1;36m4\u001b[0m                       f  $\u001b[1;36m4\u001b[0m,\u001b[1;36m718.0\u001b[0m       \u001b[1;36m26648\u001b[0m  "
      ]
     },
     "execution_count": 27,
     "metadata": {},
     "output_type": "execute_result"
    }
   ],
   "source": [
    "shuttles = catalog.load('shuttles')\n",
    "shuttles.head()"
   ]
  },
  {
   "cell_type": "code",
   "execution_count": 28,
   "id": "fc8f9a33-555b-4a13-a908-c7a10c240fd2",
   "metadata": {},
   "outputs": [
    {
     "data": {
      "text/html": [
       "<pre style=\"white-space:pre;overflow-x:auto;line-height:normal;font-family:Menlo,'DejaVu Sans Mono',consolas,'Courier New',monospace\"></pre>\n"
      ],
      "text/plain": []
     },
     "metadata": {},
     "output_type": "display_data"
    },
    {
     "data": {
      "text/plain": [
       "\n",
       "id                           int64\n",
       "shuttle_location            object\n",
       "shuttle_type                object\n",
       "engine_type                 object\n",
       "engine_vendor               object\n",
       "engines                    float64\n",
       "passenger_capacity           int64\n",
       "cancellation_policy         object\n",
       "crew                       float64\n",
       "d_check_complete            object\n",
       "moon_clearance_complete     object\n",
       "price                       object\n",
       "company_id                   int64\n",
       "dtype: object"
      ]
     },
     "execution_count": 28,
     "metadata": {},
     "output_type": "execute_result"
    }
   ],
   "source": [
    "shuttles.dtypes"
   ]
  },
  {
   "cell_type": "code",
   "execution_count": 30,
   "id": "83ed8b0a-8e98-4c37-998d-713ffa9514d1",
   "metadata": {},
   "outputs": [],
   "source": [
    "shuttles['d_check_complete'] = shuttles['d_check_complete'] == 't'"
   ]
  },
  {
   "cell_type": "code",
   "execution_count": 31,
   "id": "6db1a438-83e7-4de5-b83d-105eb82a1a4a",
   "metadata": {},
   "outputs": [],
   "source": [
    "shuttles['moon_clearance_complete'] = shuttles['moon_clearance_complete'] == 't'"
   ]
  },
  {
   "cell_type": "code",
   "execution_count": 32,
   "id": "41f8c468-f793-44a3-98d1-e470cbd86452",
   "metadata": {},
   "outputs": [],
   "source": [
    "shuttles['price'] = shuttles['price'].str.replace('$', '').str.replace(',', '').astype(float)"
   ]
  },
  {
   "cell_type": "code",
   "execution_count": 33,
   "id": "5c13e84a-941d-4e94-b8ce-1c2f0d4bedce",
   "metadata": {},
   "outputs": [
    {
     "data": {
      "text/html": [
       "<pre style=\"white-space:pre;overflow-x:auto;line-height:normal;font-family:Menlo,'DejaVu Sans Mono',consolas,'Courier New',monospace\"></pre>\n"
      ],
      "text/plain": []
     },
     "metadata": {},
     "output_type": "display_data"
    },
    {
     "data": {
      "text/plain": [
       "\n",
       "id                           int64\n",
       "shuttle_location            object\n",
       "shuttle_type                object\n",
       "engine_type                 object\n",
       "engine_vendor               object\n",
       "engines                    float64\n",
       "passenger_capacity           int64\n",
       "cancellation_policy         object\n",
       "crew                       float64\n",
       "d_check_complete              bool\n",
       "moon_clearance_complete       bool\n",
       "price                      float64\n",
       "company_id                   int64\n",
       "dtype: object"
      ]
     },
     "execution_count": 33,
     "metadata": {},
     "output_type": "execute_result"
    }
   ],
   "source": [
    "shuttles.dtypes"
   ]
  },
  {
   "cell_type": "code",
   "execution_count": null,
   "id": "4f576d88",
   "metadata": {},
   "outputs": [],
   "source": []
  }
 ],
 "metadata": {
  "kernelspec": {
   "display_name": "Python 3 (ipykernel)",
   "language": "python",
   "name": "python3"
  },
  "language_info": {
   "codemirror_mode": {
    "name": "ipython",
    "version": 3
   },
   "file_extension": ".py",
   "mimetype": "text/x-python",
   "name": "python",
   "nbconvert_exporter": "python",
   "pygments_lexer": "ipython3",
   "version": "3.13.7"
  }
 },
 "nbformat": 4,
 "nbformat_minor": 5
}
